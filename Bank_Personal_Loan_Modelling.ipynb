{
 "cells": [
  {
   "cell_type": "markdown",
   "metadata": {},
   "source": [
    "## Importing the necessary libraries"
   ]
  },
  {
   "cell_type": "code",
   "execution_count": 1,
   "metadata": {},
   "outputs": [],
   "source": [
    "import io\n",
    "import pandas as pd\n",
    "import numpy as np\n",
    "import matplotlib.pyplot as plt\n",
    "%matplotlib inline"
   ]
  },
  {
   "cell_type": "code",
   "execution_count": 2,
   "metadata": {
    "colab": {},
    "colab_type": "code",
    "id": "6ej1YNmr99I6"
   },
   "outputs": [],
   "source": [
    "df = pd.read_csv(\"Data.csv\")"
   ]
  },
  {
   "cell_type": "markdown",
   "metadata": {},
   "source": [
    "## EDA"
   ]
  },
  {
   "cell_type": "code",
   "execution_count": 3,
   "metadata": {
    "colab": {
     "base_uri": "https://localhost:8080/",
     "height": 241
    },
    "colab_type": "code",
    "id": "Y5D99gtN_H9_",
    "outputId": "f41d2dc2-2ed0-4911-897b-af7d111daa33"
   },
   "outputs": [
    {
     "data": {
      "text/html": [
       "<div>\n",
       "<style scoped>\n",
       "    .dataframe tbody tr th:only-of-type {\n",
       "        vertical-align: middle;\n",
       "    }\n",
       "\n",
       "    .dataframe tbody tr th {\n",
       "        vertical-align: top;\n",
       "    }\n",
       "\n",
       "    .dataframe thead th {\n",
       "        text-align: right;\n",
       "    }\n",
       "</style>\n",
       "<table border=\"1\" class=\"dataframe\">\n",
       "  <thead>\n",
       "    <tr style=\"text-align: right;\">\n",
       "      <th></th>\n",
       "      <th>ID</th>\n",
       "      <th>Age</th>\n",
       "      <th>Experience</th>\n",
       "      <th>Income</th>\n",
       "      <th>ZIP Code</th>\n",
       "      <th>Family</th>\n",
       "      <th>CCAvg</th>\n",
       "      <th>Education</th>\n",
       "      <th>Mortgage</th>\n",
       "      <th>Personal Loan</th>\n",
       "      <th>Securities Account</th>\n",
       "      <th>CD Account</th>\n",
       "      <th>Online</th>\n",
       "      <th>CreditCard</th>\n",
       "    </tr>\n",
       "  </thead>\n",
       "  <tbody>\n",
       "    <tr>\n",
       "      <th>0</th>\n",
       "      <td>1</td>\n",
       "      <td>25</td>\n",
       "      <td>1</td>\n",
       "      <td>49</td>\n",
       "      <td>91107</td>\n",
       "      <td>4</td>\n",
       "      <td>1.6</td>\n",
       "      <td>1</td>\n",
       "      <td>0</td>\n",
       "      <td>0</td>\n",
       "      <td>1</td>\n",
       "      <td>0</td>\n",
       "      <td>0</td>\n",
       "      <td>0</td>\n",
       "    </tr>\n",
       "    <tr>\n",
       "      <th>1</th>\n",
       "      <td>2</td>\n",
       "      <td>45</td>\n",
       "      <td>19</td>\n",
       "      <td>34</td>\n",
       "      <td>90089</td>\n",
       "      <td>3</td>\n",
       "      <td>1.5</td>\n",
       "      <td>1</td>\n",
       "      <td>0</td>\n",
       "      <td>0</td>\n",
       "      <td>1</td>\n",
       "      <td>0</td>\n",
       "      <td>0</td>\n",
       "      <td>0</td>\n",
       "    </tr>\n",
       "    <tr>\n",
       "      <th>2</th>\n",
       "      <td>3</td>\n",
       "      <td>39</td>\n",
       "      <td>15</td>\n",
       "      <td>11</td>\n",
       "      <td>94720</td>\n",
       "      <td>1</td>\n",
       "      <td>1.0</td>\n",
       "      <td>1</td>\n",
       "      <td>0</td>\n",
       "      <td>0</td>\n",
       "      <td>0</td>\n",
       "      <td>0</td>\n",
       "      <td>0</td>\n",
       "      <td>0</td>\n",
       "    </tr>\n",
       "    <tr>\n",
       "      <th>3</th>\n",
       "      <td>4</td>\n",
       "      <td>35</td>\n",
       "      <td>9</td>\n",
       "      <td>100</td>\n",
       "      <td>94112</td>\n",
       "      <td>1</td>\n",
       "      <td>2.7</td>\n",
       "      <td>2</td>\n",
       "      <td>0</td>\n",
       "      <td>0</td>\n",
       "      <td>0</td>\n",
       "      <td>0</td>\n",
       "      <td>0</td>\n",
       "      <td>0</td>\n",
       "    </tr>\n",
       "    <tr>\n",
       "      <th>4</th>\n",
       "      <td>5</td>\n",
       "      <td>35</td>\n",
       "      <td>8</td>\n",
       "      <td>45</td>\n",
       "      <td>91330</td>\n",
       "      <td>4</td>\n",
       "      <td>1.0</td>\n",
       "      <td>2</td>\n",
       "      <td>0</td>\n",
       "      <td>0</td>\n",
       "      <td>0</td>\n",
       "      <td>0</td>\n",
       "      <td>0</td>\n",
       "      <td>1</td>\n",
       "    </tr>\n",
       "  </tbody>\n",
       "</table>\n",
       "</div>"
      ],
      "text/plain": [
       "   ID  Age  Experience  Income  ZIP Code  Family  CCAvg  Education  Mortgage  \\\n",
       "0   1   25           1      49     91107       4    1.6          1         0   \n",
       "1   2   45          19      34     90089       3    1.5          1         0   \n",
       "2   3   39          15      11     94720       1    1.0          1         0   \n",
       "3   4   35           9     100     94112       1    2.7          2         0   \n",
       "4   5   35           8      45     91330       4    1.0          2         0   \n",
       "\n",
       "   Personal Loan  Securities Account  CD Account  Online  CreditCard  \n",
       "0              0                   1           0       0           0  \n",
       "1              0                   1           0       0           0  \n",
       "2              0                   0           0       0           0  \n",
       "3              0                   0           0       0           0  \n",
       "4              0                   0           0       0           1  "
      ]
     },
     "execution_count": 3,
     "metadata": {},
     "output_type": "execute_result"
    }
   ],
   "source": [
    "df.head()"
   ]
  },
  {
   "cell_type": "code",
   "execution_count": 4,
   "metadata": {
    "colab": {
     "base_uri": "https://localhost:8080/",
     "height": 34
    },
    "colab_type": "code",
    "id": "dFs6N-68_JOT",
    "outputId": "691d9002-0861-4c32-8519-71bd08a7aca2"
   },
   "outputs": [
    {
     "name": "stdout",
     "output_type": "stream",
     "text": [
      "There are 5000 rows and 14 columns.\n"
     ]
    }
   ],
   "source": [
    "print(\"There are {} rows and {} columns.\".format(df.shape[0], df.shape[1]))"
   ]
  },
  {
   "cell_type": "code",
   "execution_count": 5,
   "metadata": {
    "colab": {
     "base_uri": "https://localhost:8080/",
     "height": 374
    },
    "colab_type": "code",
    "id": "6v2THx3uEuFJ",
    "outputId": "5e5931b4-daa5-4c40-90a2-b5ec6ac0d17d"
   },
   "outputs": [
    {
     "name": "stdout",
     "output_type": "stream",
     "text": [
      "<class 'pandas.core.frame.DataFrame'>\n",
      "RangeIndex: 5000 entries, 0 to 4999\n",
      "Data columns (total 14 columns):\n",
      " #   Column              Non-Null Count  Dtype  \n",
      "---  ------              --------------  -----  \n",
      " 0   ID                  5000 non-null   int64  \n",
      " 1   Age                 5000 non-null   int64  \n",
      " 2   Experience          5000 non-null   int64  \n",
      " 3   Income              5000 non-null   int64  \n",
      " 4   ZIP Code            5000 non-null   int64  \n",
      " 5   Family              5000 non-null   int64  \n",
      " 6   CCAvg               5000 non-null   float64\n",
      " 7   Education           5000 non-null   int64  \n",
      " 8   Mortgage            5000 non-null   int64  \n",
      " 9   Personal Loan       5000 non-null   int64  \n",
      " 10  Securities Account  5000 non-null   int64  \n",
      " 11  CD Account          5000 non-null   int64  \n",
      " 12  Online              5000 non-null   int64  \n",
      " 13  CreditCard          5000 non-null   int64  \n",
      "dtypes: float64(1), int64(13)\n",
      "memory usage: 547.0 KB\n"
     ]
    }
   ],
   "source": [
    "df.info()"
   ]
  },
  {
   "cell_type": "code",
   "execution_count": 6,
   "metadata": {
    "colab": {
     "base_uri": "https://localhost:8080/",
     "height": 289
    },
    "colab_type": "code",
    "id": "K1a4bi_lExkb",
    "outputId": "20cf0ac5-b6c8-455c-ebb8-d09c4075889c"
   },
   "outputs": [
    {
     "name": "stdout",
     "output_type": "stream",
     "text": [
      "Checking for null values in our the dataset\n"
     ]
    },
    {
     "data": {
      "text/plain": [
       "ID                    False\n",
       "Age                   False\n",
       "Experience            False\n",
       "Income                False\n",
       "ZIP Code              False\n",
       "Family                False\n",
       "CCAvg                 False\n",
       "Education             False\n",
       "Mortgage              False\n",
       "Personal Loan         False\n",
       "Securities Account    False\n",
       "CD Account            False\n",
       "Online                False\n",
       "CreditCard            False\n",
       "dtype: bool"
      ]
     },
     "execution_count": 6,
     "metadata": {},
     "output_type": "execute_result"
    }
   ],
   "source": [
    "print(\"Checking for null values in our the dataset\")\n",
    "df.isna().any()"
   ]
  },
  {
   "cell_type": "markdown",
   "metadata": {
    "colab_type": "text",
    "id": "K8BAlnpoGJ_X"
   },
   "source": [
    "### ID and Zipcode might be removed as they may not be useful for our analysis"
   ]
  },
  {
   "cell_type": "code",
   "execution_count": 7,
   "metadata": {
    "colab": {},
    "colab_type": "code",
    "id": "lQ2CmOJBFIhO"
   },
   "outputs": [],
   "source": [
    "df.drop(['ID', 'ZIP Code'], axis = 1, inplace = True)"
   ]
  },
  {
   "cell_type": "code",
   "execution_count": 8,
   "metadata": {
    "colab": {
     "base_uri": "https://localhost:8080/",
     "height": 421
    },
    "colab_type": "code",
    "id": "yaDlqEDSF54B",
    "outputId": "2ea0fb5b-226f-421a-b715-ac4b14811234"
   },
   "outputs": [
    {
     "data": {
      "text/html": [
       "<div>\n",
       "<style scoped>\n",
       "    .dataframe tbody tr th:only-of-type {\n",
       "        vertical-align: middle;\n",
       "    }\n",
       "\n",
       "    .dataframe tbody tr th {\n",
       "        vertical-align: top;\n",
       "    }\n",
       "\n",
       "    .dataframe thead th {\n",
       "        text-align: right;\n",
       "    }\n",
       "</style>\n",
       "<table border=\"1\" class=\"dataframe\">\n",
       "  <thead>\n",
       "    <tr style=\"text-align: right;\">\n",
       "      <th></th>\n",
       "      <th>count</th>\n",
       "      <th>mean</th>\n",
       "      <th>std</th>\n",
       "      <th>min</th>\n",
       "      <th>25%</th>\n",
       "      <th>50%</th>\n",
       "      <th>75%</th>\n",
       "      <th>max</th>\n",
       "    </tr>\n",
       "  </thead>\n",
       "  <tbody>\n",
       "    <tr>\n",
       "      <th>Age</th>\n",
       "      <td>5000.0</td>\n",
       "      <td>45.338400</td>\n",
       "      <td>11.463166</td>\n",
       "      <td>23.0</td>\n",
       "      <td>35.0</td>\n",
       "      <td>45.0</td>\n",
       "      <td>55.0</td>\n",
       "      <td>67.0</td>\n",
       "    </tr>\n",
       "    <tr>\n",
       "      <th>Experience</th>\n",
       "      <td>5000.0</td>\n",
       "      <td>20.104600</td>\n",
       "      <td>11.467954</td>\n",
       "      <td>-3.0</td>\n",
       "      <td>10.0</td>\n",
       "      <td>20.0</td>\n",
       "      <td>30.0</td>\n",
       "      <td>43.0</td>\n",
       "    </tr>\n",
       "    <tr>\n",
       "      <th>Income</th>\n",
       "      <td>5000.0</td>\n",
       "      <td>73.774200</td>\n",
       "      <td>46.033729</td>\n",
       "      <td>8.0</td>\n",
       "      <td>39.0</td>\n",
       "      <td>64.0</td>\n",
       "      <td>98.0</td>\n",
       "      <td>224.0</td>\n",
       "    </tr>\n",
       "    <tr>\n",
       "      <th>Family</th>\n",
       "      <td>5000.0</td>\n",
       "      <td>2.396400</td>\n",
       "      <td>1.147663</td>\n",
       "      <td>1.0</td>\n",
       "      <td>1.0</td>\n",
       "      <td>2.0</td>\n",
       "      <td>3.0</td>\n",
       "      <td>4.0</td>\n",
       "    </tr>\n",
       "    <tr>\n",
       "      <th>CCAvg</th>\n",
       "      <td>5000.0</td>\n",
       "      <td>1.937938</td>\n",
       "      <td>1.747659</td>\n",
       "      <td>0.0</td>\n",
       "      <td>0.7</td>\n",
       "      <td>1.5</td>\n",
       "      <td>2.5</td>\n",
       "      <td>10.0</td>\n",
       "    </tr>\n",
       "    <tr>\n",
       "      <th>Education</th>\n",
       "      <td>5000.0</td>\n",
       "      <td>1.881000</td>\n",
       "      <td>0.839869</td>\n",
       "      <td>1.0</td>\n",
       "      <td>1.0</td>\n",
       "      <td>2.0</td>\n",
       "      <td>3.0</td>\n",
       "      <td>3.0</td>\n",
       "    </tr>\n",
       "    <tr>\n",
       "      <th>Mortgage</th>\n",
       "      <td>5000.0</td>\n",
       "      <td>56.498800</td>\n",
       "      <td>101.713802</td>\n",
       "      <td>0.0</td>\n",
       "      <td>0.0</td>\n",
       "      <td>0.0</td>\n",
       "      <td>101.0</td>\n",
       "      <td>635.0</td>\n",
       "    </tr>\n",
       "    <tr>\n",
       "      <th>Personal Loan</th>\n",
       "      <td>5000.0</td>\n",
       "      <td>0.096000</td>\n",
       "      <td>0.294621</td>\n",
       "      <td>0.0</td>\n",
       "      <td>0.0</td>\n",
       "      <td>0.0</td>\n",
       "      <td>0.0</td>\n",
       "      <td>1.0</td>\n",
       "    </tr>\n",
       "    <tr>\n",
       "      <th>Securities Account</th>\n",
       "      <td>5000.0</td>\n",
       "      <td>0.104400</td>\n",
       "      <td>0.305809</td>\n",
       "      <td>0.0</td>\n",
       "      <td>0.0</td>\n",
       "      <td>0.0</td>\n",
       "      <td>0.0</td>\n",
       "      <td>1.0</td>\n",
       "    </tr>\n",
       "    <tr>\n",
       "      <th>CD Account</th>\n",
       "      <td>5000.0</td>\n",
       "      <td>0.060400</td>\n",
       "      <td>0.238250</td>\n",
       "      <td>0.0</td>\n",
       "      <td>0.0</td>\n",
       "      <td>0.0</td>\n",
       "      <td>0.0</td>\n",
       "      <td>1.0</td>\n",
       "    </tr>\n",
       "    <tr>\n",
       "      <th>Online</th>\n",
       "      <td>5000.0</td>\n",
       "      <td>0.596800</td>\n",
       "      <td>0.490589</td>\n",
       "      <td>0.0</td>\n",
       "      <td>0.0</td>\n",
       "      <td>1.0</td>\n",
       "      <td>1.0</td>\n",
       "      <td>1.0</td>\n",
       "    </tr>\n",
       "    <tr>\n",
       "      <th>CreditCard</th>\n",
       "      <td>5000.0</td>\n",
       "      <td>0.294000</td>\n",
       "      <td>0.455637</td>\n",
       "      <td>0.0</td>\n",
       "      <td>0.0</td>\n",
       "      <td>0.0</td>\n",
       "      <td>1.0</td>\n",
       "      <td>1.0</td>\n",
       "    </tr>\n",
       "  </tbody>\n",
       "</table>\n",
       "</div>"
      ],
      "text/plain": [
       "                     count       mean         std   min   25%   50%    75%  \\\n",
       "Age                 5000.0  45.338400   11.463166  23.0  35.0  45.0   55.0   \n",
       "Experience          5000.0  20.104600   11.467954  -3.0  10.0  20.0   30.0   \n",
       "Income              5000.0  73.774200   46.033729   8.0  39.0  64.0   98.0   \n",
       "Family              5000.0   2.396400    1.147663   1.0   1.0   2.0    3.0   \n",
       "CCAvg               5000.0   1.937938    1.747659   0.0   0.7   1.5    2.5   \n",
       "Education           5000.0   1.881000    0.839869   1.0   1.0   2.0    3.0   \n",
       "Mortgage            5000.0  56.498800  101.713802   0.0   0.0   0.0  101.0   \n",
       "Personal Loan       5000.0   0.096000    0.294621   0.0   0.0   0.0    0.0   \n",
       "Securities Account  5000.0   0.104400    0.305809   0.0   0.0   0.0    0.0   \n",
       "CD Account          5000.0   0.060400    0.238250   0.0   0.0   0.0    0.0   \n",
       "Online              5000.0   0.596800    0.490589   0.0   0.0   1.0    1.0   \n",
       "CreditCard          5000.0   0.294000    0.455637   0.0   0.0   0.0    1.0   \n",
       "\n",
       "                      max  \n",
       "Age                  67.0  \n",
       "Experience           43.0  \n",
       "Income              224.0  \n",
       "Family                4.0  \n",
       "CCAvg                10.0  \n",
       "Education             3.0  \n",
       "Mortgage            635.0  \n",
       "Personal Loan         1.0  \n",
       "Securities Account    1.0  \n",
       "CD Account            1.0  \n",
       "Online                1.0  \n",
       "CreditCard            1.0  "
      ]
     },
     "execution_count": 8,
     "metadata": {},
     "output_type": "execute_result"
    }
   ],
   "source": [
    "df.describe().T"
   ]
  },
  {
   "cell_type": "code",
   "execution_count": 9,
   "metadata": {
    "colab": {
     "base_uri": "https://localhost:8080/",
     "height": 500
    },
    "colab_type": "code",
    "id": "ICS1eAniF9MG",
    "outputId": "b0ed4706-5f5a-42cc-f8ab-496e1b46b260"
   },
   "outputs": [
    {
     "data": {
      "text/plain": [
       "<matplotlib.axes._subplots.AxesSubplot at 0x23bcb646848>"
      ]
     },
     "execution_count": 9,
     "metadata": {},
     "output_type": "execute_result"
    },
    {
     "data": {
      "image/png": "[encoded data removed]",
      "text/plain": [
       "<Figure size 720x576 with 1 Axes>"
      ]
     },
     "metadata": {
      "needs_background": "light"
     },
     "output_type": "display_data"
    }
   ],
   "source": [
    "df.boxplot(column=['Age', 'Experience', 'Income', 'Family', 'Education'], return_type='axes', figsize=(10, 8))"
   ]
  },
  {
   "cell_type": "markdown",
   "metadata": {
    "colab_type": "text",
    "id": "OE68Y7ADHEPv"
   },
   "source": [
    "### Income has too much noise and slightly skewed right, Age and exp are equally distributed."
   ]
  },
  {
   "cell_type": "code",
   "execution_count": 10,
   "metadata": {
    "colab": {
     "base_uri": "https://localhost:8080/",
     "height": 238
    },
    "colab_type": "code",
    "id": "2eCwrmfEG1xW",
    "outputId": "c385bb5d-b4f4-40be-de06-aa845d4dd21e"
   },
   "outputs": [
    {
     "data": {
      "text/plain": [
       "Age                  -0.029341\n",
       "Experience           -0.026325\n",
       "Income                0.841339\n",
       "Family                0.155221\n",
       "CCAvg                 1.598443\n",
       "Education             0.227093\n",
       "Mortgage              2.104002\n",
       "Personal Loan         2.743607\n",
       "Securities Account    2.588268\n",
       "CD Account            3.691714\n",
       "Online               -0.394785\n",
       "CreditCard            0.904589\n",
       "dtype: float64"
      ]
     },
     "execution_count": 10,
     "metadata": {},
     "output_type": "execute_result"
    }
   ],
   "source": [
    "df.skew(numeric_only=True)"
   ]
  },
  {
   "cell_type": "markdown",
   "metadata": {
    "colab_type": "text",
    "id": "ESt1kaJEHaqy"
   },
   "source": [
    "### we could see that CCAvg,Mortage,Personal Loan, Securities account,CD account are highly skewed"
   ]
  },
  {
   "cell_type": "code",
   "execution_count": 11,
   "metadata": {
    "colab": {
     "base_uri": "https://localhost:8080/",
     "height": 1000
    },
    "colab_type": "code",
    "id": "b-7DF5P_Hb2V",
    "outputId": "26b5ebf8-8b42-4e2c-ee55-8f1e85c46e9b"
   },
   "outputs": [
    {
     "data": {
      "text/plain": [
       "array([[<matplotlib.axes._subplots.AxesSubplot object at 0x0000023BCBFCD188>,\n",
       "        <matplotlib.axes._subplots.AxesSubplot object at 0x0000023BCBE19A88>,\n",
       "        <matplotlib.axes._subplots.AxesSubplot object at 0x0000023BCBE534C8>],\n",
       "       [<matplotlib.axes._subplots.AxesSubplot object at 0x0000023BCBE8F348>,\n",
       "        <matplotlib.axes._subplots.AxesSubplot object at 0x0000023BCBEC9208>,\n",
       "        <matplotlib.axes._subplots.AxesSubplot object at 0x0000023BCBEFBF88>],\n",
       "       [<matplotlib.axes._subplots.AxesSubplot object at 0x0000023BCBF34E48>,\n",
       "        <matplotlib.axes._subplots.AxesSubplot object at 0x0000023BCC0F0BC8>,\n",
       "        <matplotlib.axes._subplots.AxesSubplot object at 0x0000023BCC0F0DC8>],\n",
       "       [<matplotlib.axes._subplots.AxesSubplot object at 0x0000023BCC128D08>,\n",
       "        <matplotlib.axes._subplots.AxesSubplot object at 0x0000023BCC19C808>,\n",
       "        <matplotlib.axes._subplots.AxesSubplot object at 0x0000023BCC1D5688>],\n",
       "       [<matplotlib.axes._subplots.AxesSubplot object at 0x0000023BCC210548>,\n",
       "        <matplotlib.axes._subplots.AxesSubplot object at 0x0000023BCC249488>,\n",
       "        <matplotlib.axes._subplots.AxesSubplot object at 0x0000023BCC2823C8>],\n",
       "       [<matplotlib.axes._subplots.AxesSubplot object at 0x0000023BCC2BA2C8>,\n",
       "        <matplotlib.axes._subplots.AxesSubplot object at 0x0000023BCC2F6208>,\n",
       "        <matplotlib.axes._subplots.AxesSubplot object at 0x0000023BCC330188>],\n",
       "       [<matplotlib.axes._subplots.AxesSubplot object at 0x0000023BCC362F88>,\n",
       "        <matplotlib.axes._subplots.AxesSubplot object at 0x0000023BCC39DFC8>,\n",
       "        <matplotlib.axes._subplots.AxesSubplot object at 0x0000023BCC3D8EC8>],\n",
       "       [<matplotlib.axes._subplots.AxesSubplot object at 0x0000023BCC411E08>,\n",
       "        <matplotlib.axes._subplots.AxesSubplot object at 0x0000023BCC448D88>,\n",
       "        <matplotlib.axes._subplots.AxesSubplot object at 0x0000023BCC481CC8>],\n",
       "       [<matplotlib.axes._subplots.AxesSubplot object at 0x0000023BCC4BBC08>,\n",
       "        <matplotlib.axes._subplots.AxesSubplot object at 0x0000023BCC4F4B08>,\n",
       "        <matplotlib.axes._subplots.AxesSubplot object at 0x0000023BCC52FA48>],\n",
       "       [<matplotlib.axes._subplots.AxesSubplot object at 0x0000023BCC56C4C8>,\n",
       "        <matplotlib.axes._subplots.AxesSubplot object at 0x0000023BCC5A4348>,\n",
       "        <matplotlib.axes._subplots.AxesSubplot object at 0x0000023BCC5DC188>]],\n",
       "      dtype=object)"
      ]
     },
     "execution_count": 11,
     "metadata": {},
     "output_type": "execute_result"
    },
    {
     "data": {
      "image/png": "[encoded data removed]",
      "text/plain": [
       "<Figure size 1152x2160 with 30 Axes>"
      ]
     },
     "metadata": {
      "needs_background": "light"
     },
     "output_type": "display_data"
    }
   ],
   "source": [
    "columns = list(df)\n",
    "df[columns].hist(stacked = True, density = True, bins = 100, color = 'orange', figsize = (16, 30), layout = (10, 3))"
   ]
  },
  {
   "cell_type": "markdown",
   "metadata": {
    "colab_type": "text",
    "id": "iKeiKGDoH-NL"
   },
   "source": [
    "*   Age & Experience are to an extent equally distributed\n",
    "*   60% of customers have enabled online banking and went digital\n",
    "*   Income & Credit card spending are skewed to the left\n"
   ]
  },
  {
   "cell_type": "code",
   "execution_count": 12,
   "metadata": {
    "colab": {
     "base_uri": "https://localhost:8080/",
     "height": 333
    },
    "colab_type": "code",
    "id": "JLYKaLDdIRA3",
    "outputId": "7ecd2846-7775-4522-eb52-a20934fe10fa"
   },
   "outputs": [
    {
     "data": {
      "image/png": "[encoded data removed]",
      "text/plain": [
       "<Figure size 432x288 with 1 Axes>"
      ]
     },
     "metadata": {
      "needs_background": "light"
     },
     "output_type": "display_data"
    }
   ],
   "source": [
    "import seaborn as sns\n",
    "\n",
    "sns.distplot(df['Age'],kde=True,hist=False,color='Red')\n",
    "sns.distplot(df['Income'],kde=True,hist=False,color='Green')\n",
    "sns.distplot(df['Experience'],kde=True,hist=False,color='blue')\n",
    "plt.show()"
   ]
  },
  {
   "cell_type": "code",
   "execution_count": 13,
   "metadata": {
    "colab": {
     "base_uri": "https://localhost:8080/",
     "height": 369
    },
    "colab_type": "code",
    "id": "FrmM9DQ_IZJE",
    "outputId": "042877f8-110d-4535-8899-0a140c97a807"
   },
   "outputs": [
    {
     "data": {
      "text/plain": [
       "<matplotlib.axes._subplots.AxesSubplot at 0x23bcfa71788>"
      ]
     },
     "execution_count": 13,
     "metadata": {},
     "output_type": "execute_result"
    },
    {
     "data": {
      "image/png": "[encoded data removed]",
      "text/plain": [
       "<Figure size 432x288 with 2 Axes>"
      ]
     },
     "metadata": {
      "needs_background": "light"
     },
     "output_type": "display_data"
    }
   ],
   "source": [
    "corr = df.corr()\n",
    "sns.heatmap(corr)"
   ]
  },
  {
   "cell_type": "markdown",
   "metadata": {
    "colab_type": "text",
    "id": "AgjXbFRmJYma"
   },
   "source": [
    "### We could see that Age & Experience are very strongly correlated, Hence it is fine for us to go with Age and drop Experience to avoid multi-colinearity issue."
   ]
  },
  {
   "cell_type": "code",
   "execution_count": 14,
   "metadata": {
    "colab": {},
    "colab_type": "code",
    "id": "nbjvx7cOI_3u"
   },
   "outputs": [],
   "source": [
    "df=df.drop(['Experience'],axis=1)"
   ]
  },
  {
   "cell_type": "code",
   "execution_count": 15,
   "metadata": {
    "colab": {},
    "colab_type": "code",
    "id": "2QMnvDw0JcNk"
   },
   "outputs": [],
   "source": [
    "def edu(row):    \n",
    "    if row['Education']==1:\n",
    "        return \"Undergrad\"\n",
    "    elif row['Education']==2:\n",
    "        return \"Graduate\"\n",
    "    else:\n",
    "        return \"Advanced/Professional\"\n",
    "df['EDU']=df.apply(edu,axis=1)"
   ]
  },
  {
   "cell_type": "code",
   "execution_count": 16,
   "metadata": {
    "colab": {
     "base_uri": "https://localhost:8080/",
     "height": 265
    },
    "colab_type": "code",
    "id": "w7Jym04gJqxI",
    "outputId": "a0bcc730-b4f3-42a0-acbd-5e9c3b85d2a8"
   },
   "outputs": [
    {
     "data": {
      "text/plain": [
       "<matplotlib.axes._subplots.AxesSubplot at 0x23bcfb3c948>"
      ]
     },
     "execution_count": 16,
     "metadata": {},
     "output_type": "execute_result"
    },
    {
     "data": {
      "image/png": "[encoded data removed]",
      "text/plain": [
       "<Figure size 432x288 with 1 Axes>"
      ]
     },
     "metadata": {},
     "output_type": "display_data"
    }
   ],
   "source": [
    "EDU_dis=df.groupby('EDU')[\"Age\"].count()\n",
    "EDU_dis.plot.pie(shadow=True, startangle=170,autopct='%.2f')"
   ]
  },
  {
   "cell_type": "markdown",
   "metadata": {
    "colab_type": "text",
    "id": "w1Yj0VHMJ2oS"
   },
   "source": [
    "### We could see that We have more Undergraduates 41.92% than graduates(28.06%) & Advanced Professional(30.02%)"
   ]
  },
  {
   "cell_type": "code",
   "execution_count": 17,
   "metadata": {
    "colab": {},
    "colab_type": "code",
    "id": "capQqb_LJukB"
   },
   "outputs": [],
   "source": [
    "def SD_CD(row):\n",
    "    if (row['Securities Account']==1) & (row['CD Account']==1):\n",
    "        return\"Holds Securities & deposit\"\n",
    "    elif(row['Securities Account']==0) & (row['CD Account']==0):\n",
    "        return\"Does not hold any securities or deposit\"\n",
    "    elif(row['Securities Account']==1) & (row['CD Account']==0):\n",
    "        return \"Holds only Securities Account\"\n",
    "    elif(row['Securities Account']==0) & (row['CD Account']==1):\n",
    "        return\"Holds only deposit\"  "
   ]
  },
  {
   "cell_type": "code",
   "execution_count": 18,
   "metadata": {
    "colab": {
     "base_uri": "https://localhost:8080/",
     "height": 265
    },
    "colab_type": "code",
    "id": "_iHMuKCvJ9j5",
    "outputId": "adedd7a4-edec-4704-f59b-c09ee217ffc4"
   },
   "outputs": [
    {
     "data": {
      "text/plain": [
       "<matplotlib.axes._subplots.AxesSubplot at 0x23bcfc0f508>"
      ]
     },
     "execution_count": 18,
     "metadata": {},
     "output_type": "execute_result"
    },
    {
     "data": {
      "image/png": "[encoded data removed]",
      "text/plain": [
       "<Figure size 432x288 with 1 Axes>"
      ]
     },
     "metadata": {},
     "output_type": "display_data"
    }
   ],
   "source": [
    "df['Account_Holder_Category']=df.apply(SD_CD,axis=1)\n",
    "df['Account_Holder_Category'].value_counts().plot.pie(shadow=True, startangle=125,autopct='%.2f')"
   ]
  },
  {
   "cell_type": "markdown",
   "metadata": {
    "colab_type": "text",
    "id": "Giaqxr12KIQR"
   },
   "source": [
    "#### We could see that alomst 87% of customers do not hold any securities or deposit, and 3 % hold both securities as well as deposit. It will be good if we encourage those 87% to open any of these account as it will improve the assests of the bank"
   ]
  },
  {
   "cell_type": "code",
   "execution_count": 19,
   "metadata": {
    "colab": {
     "base_uri": "https://localhost:8080/",
     "height": 296
    },
    "colab_type": "code",
    "id": "pH7ql31xKC5A",
    "outputId": "53d97594-8468-4c20-cc88-920b47d16d07"
   },
   "outputs": [
    {
     "data": {
      "text/plain": [
       "<matplotlib.axes._subplots.AxesSubplot at 0x23bd0c2a448>"
      ]
     },
     "execution_count": 19,
     "metadata": {},
     "output_type": "execute_result"
    },
    {
     "data": {
      "image/png": "[encoded data removed]",
      "text/plain": [
       "<Figure size 432x288 with 1 Axes>"
      ]
     },
     "metadata": {
      "needs_background": "light"
     },
     "output_type": "display_data"
    }
   ],
   "source": [
    "sns.boxplot(df['Education'],df['Income'],hue=df['Personal Loan'])"
   ]
  },
  {
   "cell_type": "code",
   "execution_count": 20,
   "metadata": {
    "colab": {
     "base_uri": "https://localhost:8080/",
     "height": 567
    },
    "colab_type": "code",
    "id": "8T0jdk_uKThb",
    "outputId": "ab961b6c-76e9-4eff-815a-fe336ff9cb15"
   },
   "outputs": [
    {
     "data": {
      "text/plain": [
       "Text(0.5, 1.0, 'Income Distribution')"
      ]
     },
     "execution_count": 20,
     "metadata": {},
     "output_type": "execute_result"
    },
    {
     "name": "stderr",
     "output_type": "stream",
     "text": [
      "C:\\Users\\Divyanshu\\Anaconda3\\lib\\site-packages\\IPython\\core\\pylabtools.py:132: MatplotlibDeprecationWarning: Support for uppercase single-letter colors is deprecated since Matplotlib 3.1 and will be removed in 3.3; please use lowercase instead.\n",
      "  fig.canvas.print_figure(bytes_io, **kw)\n"
     ]
    },
    {
     "data": {
      "image/png": "[encoded data removed]",
      "text/plain": [
       "<Figure size 864x576 with 1 Axes>"
      ]
     },
     "metadata": {
      "needs_background": "light"
     },
     "output_type": "display_data"
    }
   ],
   "source": [
    "plt.figure(figsize=(12,8))\n",
    "sns.distplot(df[df['Personal Loan']==0]['Income'],kde=True,color='r',hist=False,label=\"Income distribution for customers with no personal Loan\")\n",
    "sns.distplot(df[df['Personal Loan']==1]['Income'],kde=True,color='G',hist=False,label=\"Income distribution for customers with personal Loan\")\n",
    "plt.legend()\n",
    "plt.title(\"Income Distribution\")"
   ]
  },
  {
   "cell_type": "markdown",
   "metadata": {
    "colab_type": "text",
    "id": "ffFNcCcYKkp1"
   },
   "source": [
    "#### Customers who have availed personal loan seem to have higher income than those who do not have personal loan"
   ]
  },
  {
   "cell_type": "code",
   "execution_count": 21,
   "metadata": {
    "colab": {
     "base_uri": "https://localhost:8080/",
     "height": 530
    },
    "colab_type": "code",
    "id": "ix4ewy-tKfIl",
    "outputId": "0dc590da-7622-42f8-ac58-5df2f167acb0"
   },
   "outputs": [
    {
     "data": {
      "text/plain": [
       "Text(0.5, 1.0, 'CCAvg Distribution')"
      ]
     },
     "execution_count": 21,
     "metadata": {},
     "output_type": "execute_result"
    },
    {
     "data": {
      "image/png": "[encoded data removed]",
      "text/plain": [
       "<Figure size 864x576 with 1 Axes>"
      ]
     },
     "metadata": {
      "needs_background": "light"
     },
     "output_type": "display_data"
    }
   ],
   "source": [
    "plt.figure(figsize=(12,8))\n",
    "sns.distplot(df[df['Personal Loan']==0]['CCAvg'],kde=True,hist=False,color='r',label=\"Credit card average for customers with no personal Loan\")\n",
    "sns.distplot(df[df['Personal Loan']==1]['CCAvg'],kde=True,hist=False,color='G',label=\"Credit card average for customers with personal Loan\")\n",
    "plt.legend()\n",
    "plt.title(\"CCAvg Distribution\")"
   ]
  },
  {
   "cell_type": "code",
   "execution_count": 22,
   "metadata": {
    "colab": {
     "base_uri": "https://localhost:8080/",
     "height": 530
    },
    "colab_type": "code",
    "id": "bIq_eAI-KuRV",
    "outputId": "ecbfd53d-b551-4984-ed8e-97a3be8f4042"
   },
   "outputs": [
    {
     "data": {
      "text/plain": [
       "Text(0.5, 1.0, 'Mortgage Distribution')"
      ]
     },
     "execution_count": 22,
     "metadata": {},
     "output_type": "execute_result"
    },
    {
     "data": {
      "image/png": "[encoded data removed]",
      "text/plain": [
       "<Figure size 864x576 with 1 Axes>"
      ]
     },
     "metadata": {
      "needs_background": "light"
     },
     "output_type": "display_data"
    }
   ],
   "source": [
    "plt.figure(figsize=(12,8))\n",
    "sns.distplot(df[df['Personal Loan']==0]['Mortgage'],kde=True,hist=False,color='r',label=\"Mortgage of customers with no personal Loan\")\n",
    "sns.distplot(df[df['Personal Loan']==1]['Mortgage'],kde=True,hist=False,color='G',label=\"Mortgage of customers with personal Loan\")\n",
    "plt.legend()\n",
    "plt.title(\"Mortgage Distribution\")"
   ]
  },
  {
   "cell_type": "markdown",
   "metadata": {
    "colab_type": "text",
    "id": "_NoAPdW6K2_r"
   },
   "source": [
    "#### People with high mortgage value, i.e more than 400K have availed personal Loan"
   ]
  },
  {
   "cell_type": "code",
   "execution_count": 23,
   "metadata": {
    "colab": {
     "base_uri": "https://localhost:8080/",
     "height": 715
    },
    "colab_type": "code",
    "id": "Z0dU6BomKy6-",
    "outputId": "89203e83-134e-4fa5-c5b1-322d9a4b9706"
   },
   "outputs": [
    {
     "data": {
      "image/png": "[encoded data removed]",
      "text/plain": [
       "<Figure size 1008x864 with 1 Axes>"
      ]
     },
     "metadata": {
      "needs_background": "light"
     },
     "output_type": "display_data"
    }
   ],
   "source": [
    "plt.figure(figsize=(14,12))\n",
    "sns.countplot(df['Account_Holder_Category'],hue=df['Personal Loan'],palette='Blues')\n",
    "plt.show();"
   ]
  },
  {
   "cell_type": "markdown",
   "metadata": {
    "colab_type": "text",
    "id": "AlhB0m9YLSEP"
   },
   "source": [
    "#### From the above graph we could infer that , customers who hold deposit account & customers who do not hold either a securities account or deposit account have aviled personal loan"
   ]
  },
  {
   "cell_type": "code",
   "execution_count": 24,
   "metadata": {
    "colab": {},
    "colab_type": "code",
    "id": "V5uC4Z1WLGCi"
   },
   "outputs": [],
   "source": [
    "Data=df.drop(['EDU','Account_Holder_Category'],axis=1)"
   ]
  },
  {
   "cell_type": "code",
   "execution_count": 25,
   "metadata": {
    "colab": {
     "base_uri": "https://localhost:8080/",
     "height": 204
    },
    "colab_type": "code",
    "id": "Jb2W4Af9LXyo",
    "outputId": "e005479f-92f0-4c05-e083-5c800b361e2b"
   },
   "outputs": [
    {
     "data": {
      "text/html": [
       "<div>\n",
       "<style scoped>\n",
       "    .dataframe tbody tr th:only-of-type {\n",
       "        vertical-align: middle;\n",
       "    }\n",
       "\n",
       "    .dataframe tbody tr th {\n",
       "        vertical-align: top;\n",
       "    }\n",
       "\n",
       "    .dataframe thead th {\n",
       "        text-align: right;\n",
       "    }\n",
       "</style>\n",
       "<table border=\"1\" class=\"dataframe\">\n",
       "  <thead>\n",
       "    <tr style=\"text-align: right;\">\n",
       "      <th></th>\n",
       "      <th>Age</th>\n",
       "      <th>Income</th>\n",
       "      <th>Family</th>\n",
       "      <th>CCAvg</th>\n",
       "      <th>Education</th>\n",
       "      <th>Mortgage</th>\n",
       "      <th>Personal Loan</th>\n",
       "      <th>Securities Account</th>\n",
       "      <th>CD Account</th>\n",
       "      <th>Online</th>\n",
       "      <th>CreditCard</th>\n",
       "    </tr>\n",
       "  </thead>\n",
       "  <tbody>\n",
       "    <tr>\n",
       "      <th>0</th>\n",
       "      <td>25</td>\n",
       "      <td>49</td>\n",
       "      <td>4</td>\n",
       "      <td>1.6</td>\n",
       "      <td>1</td>\n",
       "      <td>0</td>\n",
       "      <td>0</td>\n",
       "      <td>1</td>\n",
       "      <td>0</td>\n",
       "      <td>0</td>\n",
       "      <td>0</td>\n",
       "    </tr>\n",
       "    <tr>\n",
       "      <th>1</th>\n",
       "      <td>45</td>\n",
       "      <td>34</td>\n",
       "      <td>3</td>\n",
       "      <td>1.5</td>\n",
       "      <td>1</td>\n",
       "      <td>0</td>\n",
       "      <td>0</td>\n",
       "      <td>1</td>\n",
       "      <td>0</td>\n",
       "      <td>0</td>\n",
       "      <td>0</td>\n",
       "    </tr>\n",
       "    <tr>\n",
       "      <th>2</th>\n",
       "      <td>39</td>\n",
       "      <td>11</td>\n",
       "      <td>1</td>\n",
       "      <td>1.0</td>\n",
       "      <td>1</td>\n",
       "      <td>0</td>\n",
       "      <td>0</td>\n",
       "      <td>0</td>\n",
       "      <td>0</td>\n",
       "      <td>0</td>\n",
       "      <td>0</td>\n",
       "    </tr>\n",
       "    <tr>\n",
       "      <th>3</th>\n",
       "      <td>35</td>\n",
       "      <td>100</td>\n",
       "      <td>1</td>\n",
       "      <td>2.7</td>\n",
       "      <td>2</td>\n",
       "      <td>0</td>\n",
       "      <td>0</td>\n",
       "      <td>0</td>\n",
       "      <td>0</td>\n",
       "      <td>0</td>\n",
       "      <td>0</td>\n",
       "    </tr>\n",
       "    <tr>\n",
       "      <th>4</th>\n",
       "      <td>35</td>\n",
       "      <td>45</td>\n",
       "      <td>4</td>\n",
       "      <td>1.0</td>\n",
       "      <td>2</td>\n",
       "      <td>0</td>\n",
       "      <td>0</td>\n",
       "      <td>0</td>\n",
       "      <td>0</td>\n",
       "      <td>0</td>\n",
       "      <td>1</td>\n",
       "    </tr>\n",
       "  </tbody>\n",
       "</table>\n",
       "</div>"
      ],
      "text/plain": [
       "   Age  Income  Family  CCAvg  Education  Mortgage  Personal Loan  \\\n",
       "0   25      49       4    1.6          1         0              0   \n",
       "1   45      34       3    1.5          1         0              0   \n",
       "2   39      11       1    1.0          1         0              0   \n",
       "3   35     100       1    2.7          2         0              0   \n",
       "4   35      45       4    1.0          2         0              0   \n",
       "\n",
       "   Securities Account  CD Account  Online  CreditCard  \n",
       "0                   1           0       0           0  \n",
       "1                   1           0       0           0  \n",
       "2                   0           0       0           0  \n",
       "3                   0           0       0           0  \n",
       "4                   0           0       0           1  "
      ]
     },
     "execution_count": 25,
     "metadata": {},
     "output_type": "execute_result"
    }
   ],
   "source": [
    "Data.head()"
   ]
  },
  {
   "cell_type": "code",
   "execution_count": 26,
   "metadata": {
    "colab": {
     "base_uri": "https://localhost:8080/",
     "height": 296
    },
    "colab_type": "code",
    "id": "26szG97ALbXD",
    "outputId": "6aff6902-6140-42b0-f014-ce055a2521af"
   },
   "outputs": [
    {
     "name": "stdout",
     "output_type": "stream",
     "text": [
      "Age does not have any impact on availing personal Loan As the P_value is Greater than 0.05 with a value of :0.584959263705325\n"
     ]
    },
    {
     "data": {
      "image/png": "[encoded data removed]",
      "text/plain": [
       "<Figure size 432x288 with 1 Axes>"
      ]
     },
     "metadata": {
      "needs_background": "light"
     },
     "output_type": "display_data"
    }
   ],
   "source": [
    "import scipy.stats as stats\n",
    "sns.scatterplot(Data['Age'],Data['Personal Loan'],hue=Data['Family'],alpha=0.8)\n",
    "\n",
    "H0=\"Age does not have any impact on availing personal Loan\"\n",
    "Ha=\"Age does have phenomenal significance on availing personal Loan\"\n",
    "\n",
    "Age_PL_Yes=np.array(Data[Data['Personal Loan']==1].Age)\n",
    "Age_PL_No=np.array(Data[Data['Personal Loan']==0].Age)\n",
    "\n",
    "t,p_value=stats.ttest_ind(Age_PL_Yes,Age_PL_No,axis=0)\n",
    "\n",
    "if p_value < 0.05:\n",
    "    print(Ha,\"As the P_value is less than 0.05 with a value of :{}\".format(p_value))\n",
    "else:\n",
    "    print (H0,\"As the P_value is Greater than 0.05 with a value of :{}\".format(p_value))"
   ]
  },
  {
   "cell_type": "code",
   "execution_count": 27,
   "metadata": {
    "colab": {
     "base_uri": "https://localhost:8080/",
     "height": 313
    },
    "colab_type": "code",
    "id": "tKO_voUrLtk1",
    "outputId": "f5c0099f-c4b3-41f9-f23c-c70ad7f6d404"
   },
   "outputs": [
    {
     "name": "stdout",
     "output_type": "stream",
     "text": [
      "Income of a person has significant impact on availing Personal Loan As the P_value is less than 0.05 with a value of :0.0\n",
      "As you can see from the plot, those who availed Personal Loan tend to have higher income\n"
     ]
    },
    {
     "data": {
      "image/png": "[encoded data removed]",
      "text/plain": [
       "<Figure size 432x288 with 1 Axes>"
      ]
     },
     "metadata": {
      "needs_background": "light"
     },
     "output_type": "display_data"
    }
   ],
   "source": [
    "sns.scatterplot(Data['Age'],Data['Personal Loan'],hue=Data['Income'],alpha=0.8)\n",
    "Income_PL_Yes=np.array((Data[Data['Personal Loan']==1]).Income)\n",
    "Income_PL_No=np.array((Data[Data['Personal Loan']==0]).Income)\n",
    "\n",
    "H0=\"Income of a person does not have an impact on availing Personal Loan\"\n",
    "Ha=\"Income of a person has significant impact on availing Personal Loan\"\n",
    "\n",
    "t,p_value=stats.ttest_ind(Income_PL_Yes,Income_PL_No,axis=0)\n",
    "\n",
    "if p_value < 0.05:\n",
    "    print(Ha,\"As the P_value is less than 0.05 with a value of :{}\".format(p_value))\n",
    "    print(\"As you can see from the plot, those who availed Personal Loan tend to have higher income\")\n",
    "else:\n",
    "    print (H0,\"As the P_value is Greater than 0.05 with a value of :{}\".format(p_value))"
   ]
  },
  {
   "cell_type": "code",
   "execution_count": 28,
   "metadata": {
    "colab": {
     "base_uri": "https://localhost:8080/",
     "height": 296
    },
    "colab_type": "code",
    "id": "ryVteCA5L1Wc",
    "outputId": "63dd8688-506c-4bee-eb6b-6db5582e16e1"
   },
   "outputs": [
    {
     "name": "stdout",
     "output_type": "stream",
     "text": [
      "Number of persons in the family has significant impact on availing Personal Loan As the P_value is less than 0.05 with a value of :1.4099040685673807e-05\n"
     ]
    },
    {
     "data": {
      "image/png": "[encoded data removed]",
      "text/plain": [
       "<Figure size 432x288 with 1 Axes>"
      ]
     },
     "metadata": {
      "needs_background": "light"
     },
     "output_type": "display_data"
    }
   ],
   "source": [
    "sns.scatterplot(Data['Age'],Data['Personal Loan'],hue=Data['Family'],alpha=0.8)\n",
    "Family_PL_Yes=np.array((Data[Data['Personal Loan']==1]).Family)\n",
    "Family_PL_No=np.array((Data[Data['Personal Loan']==0]).Family)\n",
    "\n",
    "H0=\"Number of persons in the family does not have an impact on availing Personal Loan\"\n",
    "Ha=\"Number of persons in the family has significant impact on availing Personal Loan\"\n",
    "\n",
    "t,p_value=stats.ttest_ind(Family_PL_Yes,Family_PL_No,axis=0)\n",
    "\n",
    "if p_value < 0.05:\n",
    "    print(Ha,\"As the P_value is less than 0.05 with a value of :{}\".format(p_value))\n",
    "else:\n",
    "    print (H0,\"As the P_value is Greater than 0.05 with a value of :{}\".format(p_value))"
   ]
  },
  {
   "cell_type": "code",
   "execution_count": 29,
   "metadata": {
    "colab": {
     "base_uri": "https://localhost:8080/",
     "height": 85
    },
    "colab_type": "code",
    "id": "LnaLQSrYMAnE",
    "outputId": "705bc913-fea3-467a-bc0d-71137197d89a"
   },
   "outputs": [
    {
     "name": "stdout",
     "output_type": "stream",
     "text": [
      "0    4520\n",
      "1     480\n",
      "Name: Personal Loan, dtype: int64\n",
      "Overall percentage of customers who have availed personal Loan:9.6 %\n"
     ]
    }
   ],
   "source": [
    "print(Data['Personal Loan'].value_counts())\n",
    "No_of_customers_availed_PL=Data[Data['Personal Loan']==1].shape[0]\n",
    "No_of_customers_availed_PL\n",
    "Total_Cust=Data.shape[0]\n",
    "percet=(No_of_customers_availed_PL * 100)/Total_Cust \n",
    "print(\"Overall percentage of customers who have availed personal Loan:{}\".format(percet),\"%\")"
   ]
  },
  {
   "cell_type": "markdown",
   "metadata": {
    "colab_type": "text",
    "id": "NqBpB0A-MaPu"
   },
   "source": [
    "#### As you could see, our **Target Variable** is not equally distributed, only 9.6% of customers have availed Personal Loan. So, if our model is going to learn from this dataset and do the prediction chances are there that it might be biased towards the Majority class (In this case , Personal loan not being availed by the customer) and ignore the minority class. Hence , we should try to balance our dataset to make our model learn and predict with being biased and treat both classes equally for better result."
   ]
  },
  {
   "cell_type": "markdown",
   "metadata": {},
   "source": [
    "## Modelling"
   ]
  },
  {
   "cell_type": "markdown",
   "metadata": {},
   "source": [
    "### Logistic Regression"
   ]
  },
  {
   "cell_type": "code",
   "execution_count": 30,
   "metadata": {
    "colab": {},
    "colab_type": "code",
    "id": "_AsIYIbSMN3v"
   },
   "outputs": [],
   "source": [
    "from sklearn.linear_model import LogisticRegression\n",
    "from sklearn.model_selection import train_test_split\n",
    "from sklearn.metrics import confusion_matrix, classification_report, accuracy_score, f1_score"
   ]
  },
  {
   "cell_type": "code",
   "execution_count": 31,
   "metadata": {
    "colab": {},
    "colab_type": "code",
    "id": "tx01biPHMnd2"
   },
   "outputs": [],
   "source": [
    "X=Data.drop(['Personal Loan'],axis=1)\n",
    "y=Data['Personal Loan']"
   ]
  },
  {
   "cell_type": "code",
   "execution_count": 32,
   "metadata": {
    "colab": {},
    "colab_type": "code",
    "id": "2xp9aziEMwaE"
   },
   "outputs": [],
   "source": [
    "X_train,X_test,y_train,y_test=train_test_split(X,y,test_size=0.3,random_state=23)"
   ]
  },
  {
   "cell_type": "code",
   "execution_count": 33,
   "metadata": {
    "colab": {
     "base_uri": "https://localhost:8080/",
     "height": 102
    },
    "colab_type": "code",
    "id": "ccsQjcxOM3oY",
    "outputId": "10379952-c735-437a-caf9-2bb036cfe6be"
   },
   "outputs": [
    {
     "data": {
      "text/plain": [
       "LogisticRegression(solver='liblinear')"
      ]
     },
     "execution_count": 33,
     "metadata": {},
     "output_type": "execute_result"
    }
   ],
   "source": [
    "Model1_raw=LogisticRegression(solver='liblinear')\n",
    "Model1_raw.fit(X_train,y_train)"
   ]
  },
  {
   "cell_type": "code",
   "execution_count": 34,
   "metadata": {
    "colab": {
     "base_uri": "https://localhost:8080/",
     "height": 80
    },
    "colab_type": "code",
    "id": "l34nthEQM7-E",
    "outputId": "20ffce8d-5473-4c1f-eb22-5ce8826cc19e"
   },
   "outputs": [
    {
     "data": {
      "text/html": [
       "<div>\n",
       "<style scoped>\n",
       "    .dataframe tbody tr th:only-of-type {\n",
       "        vertical-align: middle;\n",
       "    }\n",
       "\n",
       "    .dataframe tbody tr th {\n",
       "        vertical-align: top;\n",
       "    }\n",
       "\n",
       "    .dataframe thead th {\n",
       "        text-align: right;\n",
       "    }\n",
       "</style>\n",
       "<table border=\"1\" class=\"dataframe\">\n",
       "  <thead>\n",
       "    <tr style=\"text-align: right;\">\n",
       "      <th></th>\n",
       "      <th>0</th>\n",
       "      <th>1</th>\n",
       "      <th>2</th>\n",
       "      <th>3</th>\n",
       "      <th>4</th>\n",
       "      <th>5</th>\n",
       "      <th>6</th>\n",
       "      <th>7</th>\n",
       "      <th>8</th>\n",
       "      <th>9</th>\n",
       "    </tr>\n",
       "  </thead>\n",
       "  <tbody>\n",
       "    <tr>\n",
       "      <th>0</th>\n",
       "      <td>-0.010601</td>\n",
       "      <td>0.041228</td>\n",
       "      <td>0.40878</td>\n",
       "      <td>0.100676</td>\n",
       "      <td>1.197649</td>\n",
       "      <td>0.000437</td>\n",
       "      <td>-0.914748</td>\n",
       "      <td>3.320179</td>\n",
       "      <td>-0.645089</td>\n",
       "      <td>-0.947116</td>\n",
       "    </tr>\n",
       "  </tbody>\n",
       "</table>\n",
       "</div>"
      ],
      "text/plain": [
       "          0         1        2         3         4         5         6  \\\n",
       "0 -0.010601  0.041228  0.40878  0.100676  1.197649  0.000437 -0.914748   \n",
       "\n",
       "          7         8         9  \n",
       "0  3.320179 -0.645089 -0.947116  "
      ]
     },
     "execution_count": 34,
     "metadata": {},
     "output_type": "execute_result"
    }
   ],
   "source": [
    "Model1_raw_coef=pd.DataFrame(Model1_raw.coef_)\n",
    "Model1_raw_coef"
   ]
  },
  {
   "cell_type": "code",
   "execution_count": 35,
   "metadata": {
    "colab": {
     "base_uri": "https://localhost:8080/",
     "height": 34
    },
    "colab_type": "code",
    "id": "J0kPnV3gM-_Z",
    "outputId": "69c0943a-f407-4828-d1bc-22d39971aaa8"
   },
   "outputs": [
    {
     "data": {
      "text/plain": [
       "0.9508571428571428"
      ]
     },
     "execution_count": 35,
     "metadata": {},
     "output_type": "execute_result"
    }
   ],
   "source": [
    "Model1_raw.score(X_train,y_train)"
   ]
  },
  {
   "cell_type": "code",
   "execution_count": 36,
   "metadata": {
    "colab": {
     "base_uri": "https://localhost:8080/",
     "height": 34
    },
    "colab_type": "code",
    "id": "JUfx2EXtNA8p",
    "outputId": "2436378d-a769-4c02-ddd4-41f844f70c2b"
   },
   "outputs": [
    {
     "data": {
      "text/plain": [
       "0.9433333333333334"
      ]
     },
     "execution_count": 36,
     "metadata": {},
     "output_type": "execute_result"
    }
   ],
   "source": [
    "Model1_raw.score(X_test,y_test)"
   ]
  },
  {
   "cell_type": "code",
   "execution_count": 37,
   "metadata": {
    "colab": {},
    "colab_type": "code",
    "id": "T0JmlHCgNDIT"
   },
   "outputs": [],
   "source": [
    "Model1_raw_prediction=Model1_raw.predict(X_test)"
   ]
  },
  {
   "cell_type": "markdown",
   "metadata": {
    "colab_type": "text",
    "id": "4bY3ShfhNWPf"
   },
   "source": [
    "### Accuracy,F1, Precision & recall with imbalanced data for Logistic Regression"
   ]
  },
  {
   "cell_type": "code",
   "execution_count": 38,
   "metadata": {
    "colab": {
     "base_uri": "https://localhost:8080/",
     "height": 238
    },
    "colab_type": "code",
    "id": "rH_OcN6rNFHg",
    "outputId": "f27d80c6-eb00-47dd-e147-b52f6f853b2b"
   },
   "outputs": [
    {
     "name": "stdout",
     "output_type": "stream",
     "text": [
      "[[1326   17]\n",
      " [  68   89]]\n",
      "Accuracy Score  for Logistic Regression RAW DATA:94.33333333333334\n",
      "F1 Score  for Logistic Regression RAW DATA:67.68060836501901\n",
      "              precision    recall  f1-score   support\n",
      "\n",
      "           0       0.95      0.99      0.97      1343\n",
      "           1       0.84      0.57      0.68       157\n",
      "\n",
      "    accuracy                           0.94      1500\n",
      "   macro avg       0.90      0.78      0.82      1500\n",
      "weighted avg       0.94      0.94      0.94      1500\n",
      "\n"
     ]
    }
   ],
   "source": [
    "cm_model1=confusion_matrix(y_test,Model1_raw_prediction,labels=[0,1])\n",
    "print(cm_model1)\n",
    "acc_score_log1=accuracy_score(y_test,Model1_raw_prediction)\n",
    "f1_score_log1=f1_score(y_test,Model1_raw_prediction)\n",
    "print(\"Accuracy Score  for Logistic Regression RAW DATA:{}\".format(acc_score_log1*100))\n",
    "print(\"F1 Score  for Logistic Regression RAW DATA:{}\".format(f1_score_log1*100))\n",
    "print(classification_report(y_test,Model1_raw_prediction))"
   ]
  },
  {
   "cell_type": "markdown",
   "metadata": {
    "colab_type": "text",
    "id": "iVxMGOZXNfPl"
   },
   "source": [
    "#### Though we have a very good accuracy score of 94%, We should not consider this score as our data is highly imbalanced."
   ]
  },
  {
   "cell_type": "code",
   "execution_count": 39,
   "metadata": {
    "colab": {
     "base_uri": "https://localhost:8080/",
     "height": 316
    },
    "colab_type": "code",
    "id": "yJqaW3TpNaBx",
    "outputId": "306c9380-29ad-481d-8da7-ce0ed4b52bda"
   },
   "outputs": [
    {
     "data": {
      "image/png": "[encoded data removed]",
      "text/plain": [
       "<Figure size 360x360 with 1 Axes>"
      ]
     },
     "metadata": {
      "needs_background": "light"
     },
     "output_type": "display_data"
    }
   ],
   "source": [
    "from  sklearn.utils import resample\n",
    "df_majority=Data[Data['Personal Loan']==0]\n",
    "df_minority=Data[Data['Personal Loan']==1]\n",
    "df_upsample_minority=resample(df_minority,replace=True,random_state=12,n_samples=4520)\n",
    "df_upsample=pd.concat([df_majority,df_upsample_minority])\n",
    "count=df_upsample['Personal Loan'].value_counts()\n",
    "count.plot(kind='bar',figsize=(5,5));"
   ]
  },
  {
   "cell_type": "markdown",
   "metadata": {
    "colab_type": "text",
    "id": "SFJE78q6Nouj"
   },
   "source": [
    "#### Now class imbalance has been rectified , as you can see from above both the classes for our Dependent variable \"Personal Loan\" are same, we have done minority upsampling to have equal distribution of both the classes."
   ]
  },
  {
   "cell_type": "markdown",
   "metadata": {},
   "source": [
    "### Upsampling the data"
   ]
  },
  {
   "cell_type": "code",
   "execution_count": 40,
   "metadata": {
    "colab": {},
    "colab_type": "code",
    "id": "Hbq1E3d0Nkef"
   },
   "outputs": [],
   "source": [
    "X_upsampled=df_upsample.drop(['Personal Loan'],axis=1)\n",
    "Y_upsampled=df_upsample['Personal Loan']"
   ]
  },
  {
   "cell_type": "code",
   "execution_count": 41,
   "metadata": {
    "colab": {},
    "colab_type": "code",
    "id": "Ym-TMu5-NuCx"
   },
   "outputs": [],
   "source": [
    "X_upsampled_test,X_upsampled_train,Y_upsampled_test,Y_upsampled_train=train_test_split(X_upsampled,Y_upsampled,random_state=1,test_size=0.3)"
   ]
  },
  {
   "cell_type": "markdown",
   "metadata": {},
   "source": [
    "### Logistic Regression with upsampled data"
   ]
  },
  {
   "cell_type": "code",
   "execution_count": 42,
   "metadata": {
    "colab": {
     "base_uri": "https://localhost:8080/",
     "height": 102
    },
    "colab_type": "code",
    "id": "CbQs39YdNyLX",
    "outputId": "b59eef6a-c78f-4fee-f8bf-fbfc941f3370"
   },
   "outputs": [
    {
     "data": {
      "text/plain": [
       "LogisticRegression(solver='liblinear')"
      ]
     },
     "execution_count": 42,
     "metadata": {},
     "output_type": "execute_result"
    }
   ],
   "source": [
    "Model1_raw.fit(X_upsampled_train,Y_upsampled_train)"
   ]
  },
  {
   "cell_type": "code",
   "execution_count": 43,
   "metadata": {
    "colab": {},
    "colab_type": "code",
    "id": "gdzpLVzdN091"
   },
   "outputs": [],
   "source": [
    "Pred_Upsample_Log=Model1_raw.predict(X_upsampled_test)\n",
    "cm_model1_upsample=confusion_matrix(Y_upsampled_test,Pred_Upsample_Log,labels=[0,1])"
   ]
  },
  {
   "cell_type": "code",
   "execution_count": 44,
   "metadata": {
    "colab": {
     "base_uri": "https://localhost:8080/",
     "height": 170
    },
    "colab_type": "code",
    "id": "C4pb5lpIN3wC",
    "outputId": "4dc7efaf-3872-45ed-9877-b86edff0c12a"
   },
   "outputs": [
    {
     "name": "stdout",
     "output_type": "stream",
     "text": [
      "              precision    recall  f1-score   support\n",
      "\n",
      "           0       0.93      0.89      0.91      3158\n",
      "           1       0.89      0.93      0.91      3170\n",
      "\n",
      "    accuracy                           0.91      6328\n",
      "   macro avg       0.91      0.91      0.91      6328\n",
      "weighted avg       0.91      0.91      0.91      6328\n",
      "\n"
     ]
    }
   ],
   "source": [
    "print(classification_report(Y_upsampled_test,Pred_Upsample_Log))"
   ]
  },
  {
   "cell_type": "markdown",
   "metadata": {
    "colab_type": "text",
    "id": "zTnGzaAnOOpj"
   },
   "source": [
    "#### As , you can see the upsampled data produced a accouracy score of 91%, with 93% recall and 89% Precision. Whereas, Raw data had 54% recall and 84% Precision."
   ]
  },
  {
   "cell_type": "markdown",
   "metadata": {
    "colab_type": "text",
    "id": "bLsj7XsFOqD3"
   },
   "source": [
    "### **Naive Bayes** with both Raw & Upsampled Data"
   ]
  },
  {
   "cell_type": "code",
   "execution_count": 45,
   "metadata": {
    "colab": {},
    "colab_type": "code",
    "id": "bnVV9i5gON8Y"
   },
   "outputs": [],
   "source": [
    "from sklearn.naive_bayes import GaussianNB\n",
    "Model2_nb=GaussianNB()"
   ]
  },
  {
   "cell_type": "code",
   "execution_count": 46,
   "metadata": {
    "colab": {
     "base_uri": "https://localhost:8080/",
     "height": 34
    },
    "colab_type": "code",
    "id": "fCztpByqOJXu",
    "outputId": "743ed640-a3c3-4078-fd26-b829d1419393"
   },
   "outputs": [
    {
     "data": {
      "text/plain": [
       "GaussianNB()"
      ]
     },
     "execution_count": 46,
     "metadata": {},
     "output_type": "execute_result"
    }
   ],
   "source": [
    "Model2_nb.fit(X_upsampled_train,Y_upsampled_train)\n",
    "Model2_nb.fit(X_train,y_train)"
   ]
  },
  {
   "cell_type": "code",
   "execution_count": 47,
   "metadata": {
    "colab": {
     "base_uri": "https://localhost:8080/",
     "height": 34
    },
    "colab_type": "code",
    "id": "pu-m2URKOx1t",
    "outputId": "35ac8316-411b-4156-f090-6ce25cd6ddb8"
   },
   "outputs": [
    {
     "data": {
      "text/plain": [
       "GaussianNB()"
      ]
     },
     "execution_count": 47,
     "metadata": {},
     "output_type": "execute_result"
    }
   ],
   "source": [
    "Model2_nb.fit(X_upsampled_test,Y_upsampled_test)\n",
    "Model2_nb.fit(X_test,y_test)"
   ]
  },
  {
   "cell_type": "code",
   "execution_count": 48,
   "metadata": {
    "colab": {
     "base_uri": "https://localhost:8080/",
     "height": 119
    },
    "colab_type": "code",
    "id": "R9zonBZlO0ZM",
    "outputId": "c84e10dc-d800-4a42-8c50-05f07effb6ac"
   },
   "outputs": [
    {
     "name": "stdout",
     "output_type": "stream",
     "text": [
      "####################Raw Data Score####################\n",
      "0.8831428571428571\n",
      "0.8786666666666667\n",
      "####################Sample Data Score####################\n",
      "0.7577433628318584\n",
      "0.7436788874841972\n"
     ]
    }
   ],
   "source": [
    "print(\"####################Raw Data Score####################\")\n",
    "print(Model2_nb.score(X_train,y_train))\n",
    "print(Model2_nb.score(X_test,y_test))\n",
    "print(\"####################Sample Data Score####################\")\n",
    "print(Model2_nb.score(X_upsampled_train,Y_upsampled_train))\n",
    "print(Model2_nb.score(X_upsampled_test,Y_upsampled_test))"
   ]
  },
  {
   "cell_type": "code",
   "execution_count": 49,
   "metadata": {
    "colab": {},
    "colab_type": "code",
    "id": "NupNT18QO6Eq"
   },
   "outputs": [],
   "source": [
    "Pred_nb_raw=Model2_nb.predict(X_test)\n",
    "Pred_nb_Upsampled=Model2_nb.predict(X_upsampled_test)\n",
    "CM_NB_RAW=confusion_matrix(y_test,Pred_nb_raw)\n",
    "CM_NB_UPSAMPLE=confusion_matrix(Y_upsampled_test,Pred_nb_Upsampled)"
   ]
  },
  {
   "cell_type": "code",
   "execution_count": 50,
   "metadata": {
    "colab": {
     "base_uri": "https://localhost:8080/",
     "height": 561
    },
    "colab_type": "code",
    "id": "FimQ1q-1O8qx",
    "outputId": "6c8e9755-cb79-4714-fab9-1a373ce39663"
   },
   "outputs": [
    {
     "name": "stdout",
     "output_type": "stream",
     "text": [
      "Accuracy Score  for Naive Bayes Model RAW DATA:87.86666666666667\n",
      "F1 Score  for Naive Bayes Model RAW DATA:49.444444444444436\n",
      "+++++++++++++++THE CONFUSION MATRIX RAW DATA++++++++++++++++\n",
      "Confusion Matrix: \n",
      " [[1229  114]\n",
      " [  68   89]]\n",
      "+++++++++++++++CLASSIFICATION REPORT RAW DATA++++++++++++++++\n",
      "              precision    recall  f1-score   support\n",
      "\n",
      "           0       0.95      0.92      0.93      1343\n",
      "           1       0.44      0.57      0.49       157\n",
      "\n",
      "    accuracy                           0.88      1500\n",
      "   macro avg       0.69      0.74      0.71      1500\n",
      "weighted avg       0.89      0.88      0.89      1500\n",
      "\n",
      "Accuracy Score  for Naive Bayes Model Upsampled Data:74.36788874841972\n",
      "F1 Score  for Naive Bayes Model:69.23368740515933\n",
      "+++++++++++++++THE CONFUSION MATRIX Upsampled Data++++++++++++++++\n",
      "Confusion Matrix: \n",
      " [[2881  277]\n",
      " [1345 1825]]\n",
      "+++++++++++++++CLASSIFICATION REPORT Upsampled Data++++++++++++++++\n",
      "              precision    recall  f1-score   support\n",
      "\n",
      "           0       0.93      0.89      0.91      3158\n",
      "           1       0.89      0.93      0.91      3170\n",
      "\n",
      "    accuracy                           0.91      6328\n",
      "   macro avg       0.91      0.91      0.91      6328\n",
      "weighted avg       0.91      0.91      0.91      6328\n",
      "\n"
     ]
    }
   ],
   "source": [
    "acc_score_NB_Raw=accuracy_score(y_test,Pred_nb_raw)\n",
    "f1_score_NB_raw=f1_score(y_test,Pred_nb_raw)\n",
    "print(\"Accuracy Score  for Naive Bayes Model RAW DATA:{}\".format(acc_score_NB_Raw*100))\n",
    "print(\"F1 Score  for Naive Bayes Model RAW DATA:{}\".format(f1_score_NB_raw*100))\n",
    "print(\"+++++++++++++++THE CONFUSION MATRIX RAW DATA++++++++++++++++\")\n",
    "print(\"Confusion Matrix: \\n\",CM_NB_RAW)\n",
    "print(\"+++++++++++++++CLASSIFICATION REPORT RAW DATA++++++++++++++++\")\n",
    "print(classification_report(y_test,Pred_nb_raw))\n",
    "acc_score_NB_upsampled=accuracy_score(Y_upsampled_test,Pred_nb_Upsampled)\n",
    "f1_score_NB_upsampled=f1_score(Y_upsampled_test,Pred_nb_Upsampled)\n",
    "print(\"Accuracy Score  for Naive Bayes Model Upsampled Data:{}\".format(acc_score_NB_upsampled*100))\n",
    "print(\"F1 Score  for Naive Bayes Model:{}\".format(f1_score_NB_upsampled*100))\n",
    "print(\"+++++++++++++++THE CONFUSION MATRIX Upsampled Data++++++++++++++++\")\n",
    "print(\"Confusion Matrix: \\n\",CM_NB_UPSAMPLE)\n",
    "print(\"+++++++++++++++CLASSIFICATION REPORT Upsampled Data++++++++++++++++\")\n",
    "print(classification_report(Y_upsampled_test,Pred_Upsample_Log))"
   ]
  },
  {
   "cell_type": "markdown",
   "metadata": {
    "colab_type": "text",
    "id": "FJA07yOPP2np"
   },
   "source": [
    "#### As , you can see the upsampled data produced a accouracy score of 74%, with 93% recall and 89% Precision. Whereas, Raw data had 57% recall and 44% Precision which was low. Though accuracy was high other metrics with raw data on Naive Bayes were not effective"
   ]
  },
  {
   "cell_type": "markdown",
   "metadata": {
    "colab_type": "text",
    "id": "9foECBUqPPyo"
   },
   "source": [
    "### **KNN** Algorithm with Raw and Upsampled Data"
   ]
  },
  {
   "cell_type": "code",
   "execution_count": 51,
   "metadata": {
    "colab": {},
    "colab_type": "code",
    "id": "J8_-I-nZPFIC"
   },
   "outputs": [],
   "source": [
    "from sklearn.neighbors import KNeighborsClassifier"
   ]
  },
  {
   "cell_type": "code",
   "execution_count": 52,
   "metadata": {
    "colab": {
     "base_uri": "https://localhost:8080/",
     "height": 68
    },
    "colab_type": "code",
    "id": "WbmEI4xgPU8F",
    "outputId": "1f770e48-f93d-422d-f653-d91339b94bd1"
   },
   "outputs": [
    {
     "data": {
      "text/plain": [
       "KNeighborsClassifier(n_neighbors=11)"
      ]
     },
     "execution_count": 52,
     "metadata": {},
     "output_type": "execute_result"
    }
   ],
   "source": [
    "Model3_KNN=KNeighborsClassifier(n_neighbors=11)\n",
    "Model3_KNN.fit(X_train,y_train)"
   ]
  },
  {
   "cell_type": "code",
   "execution_count": 53,
   "metadata": {
    "colab": {},
    "colab_type": "code",
    "id": "lxdxLsdgPaE7"
   },
   "outputs": [],
   "source": [
    "Predict_knn=Model3_KNN.predict(X_test)\n",
    "CM_KNN=confusion_matrix(y_test,Predict_knn)"
   ]
  },
  {
   "cell_type": "code",
   "execution_count": 54,
   "metadata": {
    "colab": {},
    "colab_type": "code",
    "id": "5B4_MywwPfE9"
   },
   "outputs": [],
   "source": [
    "Model3_KNN.fit(X_upsampled_train,Y_upsampled_train)\n",
    "Predict_KNN_Sampled=Model3_KNN.predict(X_upsampled_test)\n",
    "CM_KNN_SAMPLED=confusion_matrix(Y_upsampled_test,Predict_KNN_Sampled)"
   ]
  },
  {
   "cell_type": "code",
   "execution_count": 55,
   "metadata": {
    "colab": {
     "base_uri": "https://localhost:8080/",
     "height": 561
    },
    "colab_type": "code",
    "id": "NXvmLNenPlBS",
    "outputId": "89247b26-5840-4dfa-e219-f800a2e2f481"
   },
   "outputs": [
    {
     "name": "stdout",
     "output_type": "stream",
     "text": [
      "Accuracy Score  for KNN with RAW DATA:90.46666666666667\n",
      "F1 Score for KNN with RAW DATA:36.44444444444444\n",
      "+++++++++++++++THE CONFUSION MATRIX for KNN RAW DATA++++++++++++++++\n",
      "Confusion Matrix: \n",
      " [[1316   27]\n",
      " [ 116   41]]\n",
      "+++++++++++++++CLASSIFICATION REPORT for KNN RAW DATA++++++++++++++++\n",
      "              precision    recall  f1-score   support\n",
      "\n",
      "           0       0.92      0.98      0.95      1343\n",
      "           1       0.60      0.26      0.36       157\n",
      "\n",
      "    accuracy                           0.90      1500\n",
      "   macro avg       0.76      0.62      0.66      1500\n",
      "weighted avg       0.89      0.90      0.89      1500\n",
      "\n",
      "Accuracy Score  for KNN with Upsampled Data:87.75284450063211\n",
      "F1 Score  for for KNN with Upsampled Data:88.52701702442634\n",
      "+++++++++++++++THE CONFUSION MATRIX KNN Upsampled Data++++++++++++++++\n",
      "Confusion Matrix: \n",
      " [[2563  595]\n",
      " [ 180 2990]]\n",
      "+++++++++++++++CLASSIFICATION REPORT KNN Upsampled Data++++++++++++++++\n",
      "              precision    recall  f1-score   support\n",
      "\n",
      "           0       0.93      0.81      0.87      3158\n",
      "           1       0.83      0.94      0.89      3170\n",
      "\n",
      "    accuracy                           0.88      6328\n",
      "   macro avg       0.88      0.88      0.88      6328\n",
      "weighted avg       0.88      0.88      0.88      6328\n",
      "\n"
     ]
    }
   ],
   "source": [
    "acc_score_KNN_Raw=accuracy_score(y_test,Predict_knn)\n",
    "f1_score_KNN_raw=f1_score(y_test,Predict_knn)\n",
    "print(\"Accuracy Score  for KNN with RAW DATA:{}\".format(acc_score_KNN_Raw*100))\n",
    "print(\"F1 Score for KNN with RAW DATA:{}\".format(f1_score_KNN_raw*100))\n",
    "print(\"+++++++++++++++THE CONFUSION MATRIX for KNN RAW DATA++++++++++++++++\")\n",
    "print(\"Confusion Matrix: \\n\",CM_KNN)\n",
    "print(\"+++++++++++++++CLASSIFICATION REPORT for KNN RAW DATA++++++++++++++++\")\n",
    "print(classification_report(y_test,Predict_knn))\n",
    "acc_score_KNN_upsampled=accuracy_score(Y_upsampled_test,Predict_KNN_Sampled)\n",
    "f1_score_KNN_upsampled=f1_score(Y_upsampled_test,Predict_KNN_Sampled)\n",
    "print(\"Accuracy Score  for KNN with Upsampled Data:{}\".format(acc_score_KNN_upsampled*100))\n",
    "print(\"F1 Score  for for KNN with Upsampled Data:{}\".format(f1_score_KNN_upsampled*100))\n",
    "print(\"+++++++++++++++THE CONFUSION MATRIX KNN Upsampled Data++++++++++++++++\")\n",
    "print(\"Confusion Matrix: \\n\",CM_KNN_SAMPLED)\n",
    "print(\"+++++++++++++++CLASSIFICATION REPORT KNN Upsampled Data++++++++++++++++\")\n",
    "print(classification_report(Y_upsampled_test,Predict_KNN_Sampled))"
   ]
  },
  {
   "cell_type": "markdown",
   "metadata": {
    "colab_type": "text",
    "id": "E-BMafEmPxSm"
   },
   "source": [
    "#### As , you can see the upsampled data produced a accouracy score of 87%, with 94% recall and 83% Precision. Whereas, Raw data had 26% recall and 60% Precision."
   ]
  },
  {
   "cell_type": "markdown",
   "metadata": {
    "colab_type": "text",
    "id": "GmH5UTH9QFnX"
   },
   "source": [
    "### **Model evaluation**"
   ]
  },
  {
   "cell_type": "code",
   "execution_count": 56,
   "metadata": {
    "colab": {
     "base_uri": "https://localhost:8080/",
     "height": 431
    },
    "colab_type": "code",
    "id": "GMsHp1u5PpzQ",
    "outputId": "71755d73-50ac-4c92-81cf-528de46ac959"
   },
   "outputs": [
    {
     "data": {
      "image/png": "[encoded data removed]",
      "text/plain": [
       "<Figure size 432x288 with 1 Axes>"
      ]
     },
     "metadata": {
      "needs_background": "light"
     },
     "output_type": "display_data"
    },
    {
     "name": "stdout",
     "output_type": "stream",
     "text": [
      "ROC_AUC_Score for Logistic Regression with Raw Data:0.9588050329379514\n",
      "ROC_AUC_Score for Logistic Regression with Upsample  Data:0.9614615527537095\n",
      "ROC_AUC_Score for Naive Bayes with Raw Data:0.9272045188308331\n",
      "ROC_AUC_Score for Naive Bayes with Upsample  Data:0.9273372117879982\n",
      "ROC_AUC_Score for KNN with Raw Data:0.9410294473348478\n",
      "ROC_AUC_Score for KNN with Upsample  Data:0.933101401877561\n",
      "=======================================================================\n",
      "The Best AUC_SCORE that we have got is :0.9614615527537095\n"
     ]
    }
   ],
   "source": [
    "from sklearn.metrics import roc_curve,auc,roc_auc_score\n",
    "\n",
    "\n",
    "PRED_PROB_LOG_RAW=Model1_raw.predict_proba(X_test)\n",
    "PRED_PROB_LOG_SAMPLED=Model1_raw.predict_proba(X_upsampled_test)\n",
    "\n",
    "PRED_PROB_NB_RAW=Model2_nb.predict_proba(X_test)\n",
    "PRED_PROB_NB_SAMPLED=Model2_nb.predict_proba(X_upsampled_test)\n",
    "\n",
    "PRED_PROB_KNN_RAW=Model3_KNN.predict_proba(X_test)\n",
    "PRED_PROB_KNN_SAMPLED=Model3_KNN.predict_proba(X_upsampled_test)\n",
    "\n",
    "#calculate fpr,tpr,threshold\n",
    "fpr1, tpr1, thresh1 = roc_curve(y_test, PRED_PROB_LOG_RAW[:,1], pos_label=1)\n",
    "fpr2,tpr2,thresh2= roc_curve(Y_upsampled_test,PRED_PROB_LOG_SAMPLED[:,1],pos_label=1)\n",
    "fpr3,tpr3,thresh3=roc_curve(y_test,PRED_PROB_NB_RAW[:,1],pos_label=1)\n",
    "fpr4,tpr4,thresh4=roc_curve(Y_upsampled_test,PRED_PROB_NB_SAMPLED[:,1],pos_label=1)\n",
    "fpr5,tpr5,thresh5=roc_curve(y_test,PRED_PROB_KNN_RAW[:,1],pos_label=1)\n",
    "fpr6,tpr6,thresh6=roc_curve(Y_upsampled_test,PRED_PROB_KNN_SAMPLED[:,1],pos_label=1)\n",
    "\n",
    "\n",
    "random_probs = [0 for i in range(len(y_test))]\n",
    "p_fpr, p_tpr, _ = roc_curve(y_test, random_probs, pos_label=1)\n",
    "\n",
    "\n",
    "AUC_LOG_RAW=roc_auc_score(y_test,PRED_PROB_LOG_RAW[:,1])\n",
    "AUC_LOG_SAMPLED=roc_auc_score(Y_upsampled_test,PRED_PROB_LOG_SAMPLED[:,1])\n",
    "AUC_NB_RAW=roc_auc_score(y_test,PRED_PROB_NB_RAW[:,1])\n",
    "AUC_NB_UPSAMPLED=roc_auc_score(Y_upsampled_test,PRED_PROB_NB_SAMPLED[:,1])\n",
    "AUC_KNN_RAW=roc_auc_score(y_test,PRED_PROB_KNN_RAW[:,1])\n",
    "AUC_KNN_UPSAMPLED=roc_auc_score(Y_upsampled_test,PRED_PROB_KNN_SAMPLED[:,1])\n",
    "\n",
    "AUC_SCORES=pd.array([AUC_LOG_RAW,AUC_LOG_SAMPLED,AUC_NB_RAW,AUC_NB_UPSAMPLED,AUC_KNN_RAW,AUC_KNN_UPSAMPLED])\n",
    "\n",
    "\n",
    "\n",
    "#Plot Area Under Curve\n",
    "\n",
    "plt.plot(fpr1,tpr1,linestyle='--',color='orange', label='Logistic Regression RAW')\n",
    "plt.plot(fpr2,tpr2,linestyle='solid',color='blue', label='Logistic Regression Sampled')\n",
    "plt.plot(fpr3,tpr3,linestyle='--',color='Green', label='Naive Bayes RAW')\n",
    "plt.plot(fpr4,tpr4,linestyle='solid',color='Red', label='Naive Bayes Sampled')\n",
    "plt.plot(fpr5,tpr5,linestyle='--',color='violet',label='KNN RAW')\n",
    "plt.plot(fpr6,tpr6,linestyle='solid',color='black',label='KNN Upsampled')\n",
    "\n",
    "plt.plot(p_fpr, p_tpr, linestyle=':', color='red')\n",
    "# title\n",
    "plt.title('ROC curve')\n",
    "# x label\n",
    "plt.xlabel('False Positive Rate')\n",
    "# y label\n",
    "plt.ylabel('True Positive rate')\n",
    "\n",
    "plt.legend(loc='best')\n",
    "plt.savefig('ROC',dpi=300)\n",
    "plt.show();\n",
    "\n",
    "print(\"ROC_AUC_Score for Logistic Regression with Raw Data:{}\".format(AUC_LOG_RAW))\n",
    "print(\"ROC_AUC_Score for Logistic Regression with Upsample  Data:{}\".format(AUC_LOG_SAMPLED))\n",
    "print(\"ROC_AUC_Score for Naive Bayes with Raw Data:{}\".format(AUC_NB_RAW))\n",
    "print(\"ROC_AUC_Score for Naive Bayes with Upsample  Data:{}\".format(AUC_NB_UPSAMPLED))\n",
    "print(\"ROC_AUC_Score for KNN with Raw Data:{}\".format(AUC_KNN_RAW))\n",
    "print(\"ROC_AUC_Score for KNN with Upsample  Data:{}\".format(AUC_KNN_UPSAMPLED))  \n",
    "print(\"=======================================================================\")\n",
    "print(\"The Best AUC_SCORE that we have got is :{}\".format(AUC_SCORES.max()))"
   ]
  },
  {
   "cell_type": "markdown",
   "metadata": {
    "colab_type": "text",
    "id": "LoCxmWR-QbV1"
   },
   "source": [
    "## **Conclusion**"
   ]
  },
  {
   "cell_type": "markdown",
   "metadata": {
    "colab_type": "text",
    "id": "8QIDfizqQm_D"
   },
   "source": [
    "#### Higher the AUC, better the model is at distinguishing between a customer buying personal Loan and Not buying Personal Loan."
   ]
  },
  {
   "cell_type": "markdown",
   "metadata": {
    "colab_type": "text",
    "id": "rQ3OrTIzQuCZ"
   },
   "source": [
    "### The Blue line shows that our **Logistic model** on sampled data alomst covers more region and 96% can predict our class covering both cutomers who will buy and not buy Personal Loan."
   ]
  },
  {
   "cell_type": "code",
   "execution_count": null,
   "metadata": {
    "colab": {},
    "colab_type": "code",
    "id": "9u757fW5QxEi"
   },
   "outputs": [],
   "source": []
  }
 ],
 "metadata": {
  "colab": {
   "name": "Bank_Personal_Loan_Modelling.ipynb",
   "provenance": []
  },
  "kernelspec": {
   "display_name": "Python 3",
   "language": "python",
   "name": "python3"
  },
  "language_info": {
   "codemirror_mode": {
    "name": "ipython",
    "version": 3
   },
   "file_extension": ".py",
   "mimetype": "text/x-python",
   "name": "python",
   "nbconvert_exporter": "python",
   "pygments_lexer": "ipython3",
   "version": "3.7.7"
  }
 },
 "nbformat": 4,
 "nbformat_minor": 1
}
